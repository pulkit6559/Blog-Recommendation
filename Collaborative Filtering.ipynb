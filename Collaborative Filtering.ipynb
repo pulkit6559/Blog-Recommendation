{
 "cells": [
  {
   "cell_type": "code",
   "execution_count": 3,
   "metadata": {},
   "outputs": [],
   "source": [
    "import pandas as pd\n",
    "import numpy as np\n",
    "import os"
   ]
  },
  {
   "cell_type": "code",
   "execution_count": 5,
   "metadata": {},
   "outputs": [],
   "source": [
    "data_dir = \"Mldata/\""
   ]
  },
  {
   "cell_type": "code",
   "execution_count": 46,
   "metadata": {},
   "outputs": [],
   "source": [
    "users = pd.read_csv(data_dir+\"users.csv\")\n",
    "posts = pd.read_csv(data_dir+\"posts.csv\")\n",
    "views = pd.read_csv(data_dir+\"views.csv\")"
   ]
  },
  {
   "cell_type": "code",
   "execution_count": 47,
   "metadata": {},
   "outputs": [
    {
     "data": {
      "text/html": [
       "<div>\n",
       "<style scoped>\n",
       "    .dataframe tbody tr th:only-of-type {\n",
       "        vertical-align: middle;\n",
       "    }\n",
       "\n",
       "    .dataframe tbody tr th {\n",
       "        vertical-align: top;\n",
       "    }\n",
       "\n",
       "    .dataframe thead th {\n",
       "        text-align: right;\n",
       "    }\n",
       "</style>\n",
       "<table border=\"1\" class=\"dataframe\">\n",
       "  <thead>\n",
       "    <tr style=\"text-align: right;\">\n",
       "      <th></th>\n",
       "      <th>user_id</th>\n",
       "      <th>post_id</th>\n",
       "      <th>timestamp</th>\n",
       "    </tr>\n",
       "  </thead>\n",
       "  <tbody>\n",
       "    <tr>\n",
       "      <th>0</th>\n",
       "      <td>5df49b32cc709107827fb3c7</td>\n",
       "      <td>5ec821ddec493f4a2655889e</td>\n",
       "      <td>2020-06-01T10:46:45.131Z</td>\n",
       "    </tr>\n",
       "    <tr>\n",
       "      <th>1</th>\n",
       "      <td>5ed3748576027d35905ccaab</td>\n",
       "      <td>5ed4cbadbd514d602c1531a6</td>\n",
       "      <td>2020-06-01T09:39:20.021Z</td>\n",
       "    </tr>\n",
       "    <tr>\n",
       "      <th>2</th>\n",
       "      <td>5ed0defa76027d35905cc2de</td>\n",
       "      <td>5eac305f10426255a7aa9dd3</td>\n",
       "      <td>2020-06-01T08:12:42.682Z</td>\n",
       "    </tr>\n",
       "    <tr>\n",
       "      <th>3</th>\n",
       "      <td>5ed0defa76027d35905cc2de</td>\n",
       "      <td>5ed1ff0276027d35905cc60d</td>\n",
       "      <td>2020-06-01T08:10:23.880Z</td>\n",
       "    </tr>\n",
       "    <tr>\n",
       "      <th>4</th>\n",
       "      <td>5ed0defa76027d35905cc2de</td>\n",
       "      <td>5ed3820f76027d35905ccac8</td>\n",
       "      <td>2020-06-01T08:08:54.124Z</td>\n",
       "    </tr>\n",
       "  </tbody>\n",
       "</table>\n",
       "</div>"
      ],
      "text/plain": [
       "                    user_id                   post_id  \\\n",
       "0  5df49b32cc709107827fb3c7  5ec821ddec493f4a2655889e   \n",
       "1  5ed3748576027d35905ccaab  5ed4cbadbd514d602c1531a6   \n",
       "2  5ed0defa76027d35905cc2de  5eac305f10426255a7aa9dd3   \n",
       "3  5ed0defa76027d35905cc2de  5ed1ff0276027d35905cc60d   \n",
       "4  5ed0defa76027d35905cc2de  5ed3820f76027d35905ccac8   \n",
       "\n",
       "                  timestamp  \n",
       "0  2020-06-01T10:46:45.131Z  \n",
       "1  2020-06-01T09:39:20.021Z  \n",
       "2  2020-06-01T08:12:42.682Z  \n",
       "3  2020-06-01T08:10:23.880Z  \n",
       "4  2020-06-01T08:08:54.124Z  "
      ]
     },
     "execution_count": 47,
     "metadata": {},
     "output_type": "execute_result"
    }
   ],
   "source": [
    "views.head()"
   ]
  },
  {
   "cell_type": "code",
   "execution_count": 48,
   "metadata": {},
   "outputs": [],
   "source": [
    "views['count'] = views.groupby(['user_id','post_id']).transform('count')"
   ]
  },
  {
   "cell_type": "code",
   "execution_count": 51,
   "metadata": {},
   "outputs": [],
   "source": [
    "views['max_count'] = views.groupby(['user_id'])['count'].transform('max')"
   ]
  },
  {
   "cell_type": "code",
   "execution_count": 56,
   "metadata": {},
   "outputs": [
    {
     "data": {
      "text/html": [
       "<div>\n",
       "<style scoped>\n",
       "    .dataframe tbody tr th:only-of-type {\n",
       "        vertical-align: middle;\n",
       "    }\n",
       "\n",
       "    .dataframe tbody tr th {\n",
       "        vertical-align: top;\n",
       "    }\n",
       "\n",
       "    .dataframe thead th {\n",
       "        text-align: right;\n",
       "    }\n",
       "</style>\n",
       "<table border=\"1\" class=\"dataframe\">\n",
       "  <thead>\n",
       "    <tr style=\"text-align: right;\">\n",
       "      <th></th>\n",
       "      <th>user_id</th>\n",
       "      <th>post_id</th>\n",
       "      <th>timestamp</th>\n",
       "      <th>count</th>\n",
       "      <th>max_count</th>\n",
       "    </tr>\n",
       "  </thead>\n",
       "  <tbody>\n",
       "    <tr>\n",
       "      <th>16</th>\n",
       "      <td>5d60098a653a331687083238</td>\n",
       "      <td>5ed3820f76027d35905ccac8</td>\n",
       "      <td>2020-05-31T18:01:54.308Z</td>\n",
       "      <td>1</td>\n",
       "      <td>3</td>\n",
       "    </tr>\n",
       "    <tr>\n",
       "      <th>32</th>\n",
       "      <td>5d60098a653a331687083238</td>\n",
       "      <td>5ed1ff0276027d35905cc60d</td>\n",
       "      <td>2020-05-31T08:21:29.911Z</td>\n",
       "      <td>1</td>\n",
       "      <td>3</td>\n",
       "    </tr>\n",
       "    <tr>\n",
       "      <th>109</th>\n",
       "      <td>5d60098a653a331687083238</td>\n",
       "      <td>5ecf96e876027d35905cbf46</td>\n",
       "      <td>2020-05-29T19:13:27.566Z</td>\n",
       "      <td>1</td>\n",
       "      <td>3</td>\n",
       "    </tr>\n",
       "    <tr>\n",
       "      <th>110</th>\n",
       "      <td>5d60098a653a331687083238</td>\n",
       "      <td>5ecfa0ca76027d35905cbf57</td>\n",
       "      <td>2020-05-29T19:10:50.010Z</td>\n",
       "      <td>1</td>\n",
       "      <td>3</td>\n",
       "    </tr>\n",
       "    <tr>\n",
       "      <th>111</th>\n",
       "      <td>5d60098a653a331687083238</td>\n",
       "      <td>5ed0e20776027d35905cc2fe</td>\n",
       "      <td>2020-05-29T19:10:23.887Z</td>\n",
       "      <td>1</td>\n",
       "      <td>3</td>\n",
       "    </tr>\n",
       "    <tr>\n",
       "      <th>...</th>\n",
       "      <td>...</td>\n",
       "      <td>...</td>\n",
       "      <td>...</td>\n",
       "      <td>...</td>\n",
       "      <td>...</td>\n",
       "    </tr>\n",
       "    <tr>\n",
       "      <th>1444</th>\n",
       "      <td>5d60098a653a331687083238</td>\n",
       "      <td>5e7a60edcfc8b713f5ac7d82</td>\n",
       "      <td>2020-03-26T19:03:55.284Z</td>\n",
       "      <td>1</td>\n",
       "      <td>3</td>\n",
       "    </tr>\n",
       "    <tr>\n",
       "      <th>1445</th>\n",
       "      <td>5d60098a653a331687083238</td>\n",
       "      <td>5e7a629ccfc8b713f5ac7d84</td>\n",
       "      <td>2020-03-26T19:01:42.384Z</td>\n",
       "      <td>1</td>\n",
       "      <td>3</td>\n",
       "    </tr>\n",
       "    <tr>\n",
       "      <th>1446</th>\n",
       "      <td>5d60098a653a331687083238</td>\n",
       "      <td>5e7b1e65cfc8b713f5ac7d90</td>\n",
       "      <td>2020-03-26T19:00:25.693Z</td>\n",
       "      <td>2</td>\n",
       "      <td>3</td>\n",
       "    </tr>\n",
       "    <tr>\n",
       "      <th>1447</th>\n",
       "      <td>5d60098a653a331687083238</td>\n",
       "      <td>5e7cc074cfc8b713f5ac7db0</td>\n",
       "      <td>2020-03-26T18:49:14.721Z</td>\n",
       "      <td>2</td>\n",
       "      <td>3</td>\n",
       "    </tr>\n",
       "    <tr>\n",
       "      <th>1448</th>\n",
       "      <td>5d60098a653a331687083238</td>\n",
       "      <td>5e1029f22a37d20505da2a79</td>\n",
       "      <td>2020-03-26T18:25:45.637Z</td>\n",
       "      <td>1</td>\n",
       "      <td>3</td>\n",
       "    </tr>\n",
       "  </tbody>\n",
       "</table>\n",
       "<p>230 rows × 5 columns</p>\n",
       "</div>"
      ],
      "text/plain": [
       "                       user_id                   post_id  \\\n",
       "16    5d60098a653a331687083238  5ed3820f76027d35905ccac8   \n",
       "32    5d60098a653a331687083238  5ed1ff0276027d35905cc60d   \n",
       "109   5d60098a653a331687083238  5ecf96e876027d35905cbf46   \n",
       "110   5d60098a653a331687083238  5ecfa0ca76027d35905cbf57   \n",
       "111   5d60098a653a331687083238  5ed0e20776027d35905cc2fe   \n",
       "...                        ...                       ...   \n",
       "1444  5d60098a653a331687083238  5e7a60edcfc8b713f5ac7d82   \n",
       "1445  5d60098a653a331687083238  5e7a629ccfc8b713f5ac7d84   \n",
       "1446  5d60098a653a331687083238  5e7b1e65cfc8b713f5ac7d90   \n",
       "1447  5d60098a653a331687083238  5e7cc074cfc8b713f5ac7db0   \n",
       "1448  5d60098a653a331687083238  5e1029f22a37d20505da2a79   \n",
       "\n",
       "                     timestamp  count  max_count  \n",
       "16    2020-05-31T18:01:54.308Z      1          3  \n",
       "32    2020-05-31T08:21:29.911Z      1          3  \n",
       "109   2020-05-29T19:13:27.566Z      1          3  \n",
       "110   2020-05-29T19:10:50.010Z      1          3  \n",
       "111   2020-05-29T19:10:23.887Z      1          3  \n",
       "...                        ...    ...        ...  \n",
       "1444  2020-03-26T19:03:55.284Z      1          3  \n",
       "1445  2020-03-26T19:01:42.384Z      1          3  \n",
       "1446  2020-03-26T19:00:25.693Z      2          3  \n",
       "1447  2020-03-26T18:49:14.721Z      2          3  \n",
       "1448  2020-03-26T18:25:45.637Z      1          3  \n",
       "\n",
       "[230 rows x 5 columns]"
      ]
     },
     "execution_count": 56,
     "metadata": {},
     "output_type": "execute_result"
    }
   ],
   "source": [
    "views[views['user_id']=='5d60098a653a331687083238']"
   ]
  },
  {
   "cell_type": "code",
   "execution_count": 57,
   "metadata": {},
   "outputs": [],
   "source": [
    "views['rating'] = views['count']/views['max_count']"
   ]
  },
  {
   "cell_type": "code",
   "execution_count": 58,
   "metadata": {},
   "outputs": [
    {
     "data": {
      "text/html": [
       "<div>\n",
       "<style scoped>\n",
       "    .dataframe tbody tr th:only-of-type {\n",
       "        vertical-align: middle;\n",
       "    }\n",
       "\n",
       "    .dataframe tbody tr th {\n",
       "        vertical-align: top;\n",
       "    }\n",
       "\n",
       "    .dataframe thead th {\n",
       "        text-align: right;\n",
       "    }\n",
       "</style>\n",
       "<table border=\"1\" class=\"dataframe\">\n",
       "  <thead>\n",
       "    <tr style=\"text-align: right;\">\n",
       "      <th></th>\n",
       "      <th>user_id</th>\n",
       "      <th>post_id</th>\n",
       "      <th>timestamp</th>\n",
       "      <th>count</th>\n",
       "      <th>max_count</th>\n",
       "      <th>rating</th>\n",
       "    </tr>\n",
       "  </thead>\n",
       "  <tbody>\n",
       "    <tr>\n",
       "      <th>0</th>\n",
       "      <td>5df49b32cc709107827fb3c7</td>\n",
       "      <td>5ec821ddec493f4a2655889e</td>\n",
       "      <td>2020-06-01T10:46:45.131Z</td>\n",
       "      <td>1</td>\n",
       "      <td>2</td>\n",
       "      <td>0.5</td>\n",
       "    </tr>\n",
       "    <tr>\n",
       "      <th>1</th>\n",
       "      <td>5ed3748576027d35905ccaab</td>\n",
       "      <td>5ed4cbadbd514d602c1531a6</td>\n",
       "      <td>2020-06-01T09:39:20.021Z</td>\n",
       "      <td>1</td>\n",
       "      <td>1</td>\n",
       "      <td>1.0</td>\n",
       "    </tr>\n",
       "    <tr>\n",
       "      <th>2</th>\n",
       "      <td>5ed0defa76027d35905cc2de</td>\n",
       "      <td>5eac305f10426255a7aa9dd3</td>\n",
       "      <td>2020-06-01T08:12:42.682Z</td>\n",
       "      <td>1</td>\n",
       "      <td>1</td>\n",
       "      <td>1.0</td>\n",
       "    </tr>\n",
       "    <tr>\n",
       "      <th>3</th>\n",
       "      <td>5ed0defa76027d35905cc2de</td>\n",
       "      <td>5ed1ff0276027d35905cc60d</td>\n",
       "      <td>2020-06-01T08:10:23.880Z</td>\n",
       "      <td>1</td>\n",
       "      <td>1</td>\n",
       "      <td>1.0</td>\n",
       "    </tr>\n",
       "    <tr>\n",
       "      <th>4</th>\n",
       "      <td>5ed0defa76027d35905cc2de</td>\n",
       "      <td>5ed3820f76027d35905ccac8</td>\n",
       "      <td>2020-06-01T08:08:54.124Z</td>\n",
       "      <td>1</td>\n",
       "      <td>1</td>\n",
       "      <td>1.0</td>\n",
       "    </tr>\n",
       "  </tbody>\n",
       "</table>\n",
       "</div>"
      ],
      "text/plain": [
       "                    user_id                   post_id  \\\n",
       "0  5df49b32cc709107827fb3c7  5ec821ddec493f4a2655889e   \n",
       "1  5ed3748576027d35905ccaab  5ed4cbadbd514d602c1531a6   \n",
       "2  5ed0defa76027d35905cc2de  5eac305f10426255a7aa9dd3   \n",
       "3  5ed0defa76027d35905cc2de  5ed1ff0276027d35905cc60d   \n",
       "4  5ed0defa76027d35905cc2de  5ed3820f76027d35905ccac8   \n",
       "\n",
       "                  timestamp  count  max_count  rating  \n",
       "0  2020-06-01T10:46:45.131Z      1          2     0.5  \n",
       "1  2020-06-01T09:39:20.021Z      1          1     1.0  \n",
       "2  2020-06-01T08:12:42.682Z      1          1     1.0  \n",
       "3  2020-06-01T08:10:23.880Z      1          1     1.0  \n",
       "4  2020-06-01T08:08:54.124Z      1          1     1.0  "
      ]
     },
     "execution_count": 58,
     "metadata": {},
     "output_type": "execute_result"
    }
   ],
   "source": [
    "views.head()"
   ]
  },
  {
   "cell_type": "code",
   "execution_count": 67,
   "metadata": {},
   "outputs": [
    {
     "data": {
      "text/plain": [
       "user_id    1449\n",
       "post_id    1449\n",
       "rating     1449\n",
       "dtype: int64"
      ]
     },
     "execution_count": 67,
     "metadata": {},
     "output_type": "execute_result"
    }
   ],
   "source": [
    "ratings = views[['user_id','post_id','rating']]\n",
    "ratings.count()"
   ]
  },
  {
   "cell_type": "code",
   "execution_count": null,
   "metadata": {},
   "outputs": [],
   "source": []
  },
  {
   "cell_type": "code",
   "execution_count": 69,
   "metadata": {},
   "outputs": [],
   "source": [
    "from surprise import NormalPredictor\n",
    "from surprise import Dataset, Reader, SVD, accuracy\n",
    "from surprise.model_selection import cross_validate, GridSearchCV, KFold"
   ]
  },
  {
   "cell_type": "code",
   "execution_count": 81,
   "metadata": {},
   "outputs": [],
   "source": [
    "reader = Reader(rating_scale=(0, 1))\n",
    "\n",
    "# The columns must correspond to user id, item id and ratings (in that order).\n",
    "data = Dataset.load_from_df(ratings, reader)"
   ]
  },
  {
   "cell_type": "code",
   "execution_count": 82,
   "metadata": {},
   "outputs": [
    {
     "name": "stdout",
     "output_type": "stream",
     "text": [
      "RMSE: 0.1083\n"
     ]
    },
    {
     "data": {
      "text/plain": [
       "0.10832567263232866"
      ]
     },
     "execution_count": 82,
     "metadata": {},
     "output_type": "execute_result"
    }
   ],
   "source": [
    "algo = SVD()\n",
    "\n",
    "trainset = data.build_full_trainset()\n",
    "algo.fit(trainset)\n",
    "\n",
    "testset = trainset.build_testset()\n",
    "predictions = algo.test(testset)\n",
    "# RMSE should be low as we are biased\n",
    "accuracy.rmse(predictions, verbose=True)"
   ]
  },
  {
   "cell_type": "code",
   "execution_count": 83,
   "metadata": {},
   "outputs": [
    {
     "name": "stdout",
     "output_type": "stream",
     "text": [
      "Grid Search...\n"
     ]
    }
   ],
   "source": [
    "print('Grid Search...')\n",
    "param_grid = {'n_epochs': [5, 10], 'lr_all': [0.002, 0.005]}\n",
    "grid_search = GridSearchCV(SVD, param_grid, measures=['rmse'], cv=3)\n",
    "grid_search.fit(data)"
   ]
  },
  {
   "cell_type": "code",
   "execution_count": 84,
   "metadata": {},
   "outputs": [
    {
     "name": "stdout",
     "output_type": "stream",
     "text": [
      "Biased error on A,   RMSE: 0.1501\n"
     ]
    },
    {
     "data": {
      "text/plain": [
       "0.15014602208925218"
      ]
     },
     "execution_count": 84,
     "metadata": {},
     "output_type": "execute_result"
    }
   ],
   "source": [
    "algo = grid_search.best_estimator['rmse']\n",
    "\n",
    "# retrain on the whole set A\n",
    "trainset = data.build_full_trainset()\n",
    "algo.fit(trainset)\n",
    "\n",
    "# Compute biased accuracy on A\n",
    "predictions = algo.test(trainset.build_testset())\n",
    "print('Biased error on A,', end='   ')\n",
    "accuracy.rmse(predictions)"
   ]
  },
  {
   "cell_type": "code",
   "execution_count": 114,
   "metadata": {},
   "outputs": [],
   "source": [
    "def get_rating(model, userID, itemID, actual=0):\n",
    "    print(\"Predicting rating of \\nuserID: {} \\nitemID: {}\\n\".format(userID, itemID))\n",
    "    \n",
    "    if actual==0:\n",
    "        rating = model.predict(uid=userID, iid=itemID).est\n",
    "        print(\"Rating: {}\".format(rating))\n",
    "    else:\n",
    "        pred = model.predict(uid=userID, iid=itemID, r_ui=actual)\n",
    "        rating = pred.est\n",
    "        print(\"Rating: {}\\tActual: {}\".format(rating, actual))\n",
    "    \n",
    "    return rating"
   ]
  },
  {
   "cell_type": "code",
   "execution_count": null,
   "metadata": {},
   "outputs": [],
   "source": [
    "def get_rating(model, userID, itemID, actual=0):\n",
    "    print(\"Predicting rating of \\nuserID: {} \\nitemID: {}\\n\".format(userID, itemID))\n",
    "    \n",
    "    if actual==0:\n",
    "        rating = model.predict(uid=userID, iid=itemID).est\n",
    "        print(\"Rating: {}\".format(rating))\n",
    "    else:\n",
    "        pred = model.predict(uid=userID, iid=itemID, r_ui=actual)\n",
    "        rating = pred.est\n",
    "        print(\"Rating: {}\\tActual: {}\".format(rating, actual))\n",
    "    \n",
    "    return rating"
   ]
  },
  {
   "cell_type": "code",
   "execution_count": 115,
   "metadata": {},
   "outputs": [
    {
     "name": "stdout",
     "output_type": "stream",
     "text": [
      "Predicting rating of \n",
      "userID: 5df49b32cc709107827fb3c7 \n",
      "itemID: 5ec821ddec493f4a2655889e\n",
      "\n",
      "Rating: 0.6942829458973089\tActual: 0.5\n"
     ]
    },
    {
     "data": {
      "text/plain": [
       "0.6942829458973089"
      ]
     },
     "execution_count": 115,
     "metadata": {},
     "output_type": "execute_result"
    }
   ],
   "source": [
    "userID = '5df49b32cc709107827fb3c7'\n",
    "itemID = '5ec821ddec493f4a2655889e'\n",
    "\n",
    "get_rating(algo, userID,itemID, 0.5)"
   ]
  },
  {
   "cell_type": "code",
   "execution_count": 150,
   "metadata": {},
   "outputs": [],
   "source": [
    "def get_rating(model, userID, items, num):\n",
    "  \n",
    "    items = items.to_frame(name='item_id')\n",
    "    items['rating'] = items['item_id'].apply(lambda x: model.predict(uid=userID, iid=x).est)\n",
    "    blog_indices = items.sort_values('rating', ascending=False)['item_id'].unique()[:num]\n",
    "    print(blog_indices)\n",
    "    return posts[posts['_id'].isin(blog_indices)]['title'] "
   ]
  },
  {
   "cell_type": "code",
   "execution_count": 151,
   "metadata": {},
   "outputs": [
    {
     "name": "stdout",
     "output_type": "stream",
     "text": [
      "['5eb2c11210426255a7aaa052' '5e847970a3258347b42f245e'\n",
      " '5e9b0475a3258347b42f2c6b' '5ed2502b76027d35905cc7db'\n",
      " '5e901e9da3258347b42f2711' '5e895ceca3258347b42f25b6'\n",
      " '5e948155a3258347b42f2850' '5d62abaa65218653a132c956'\n",
      " '5e947c4aa3258347b42f283e' '5ed1ff0276027d35905cc60d']\n"
     ]
    },
    {
     "data": {
      "text/plain": [
       "0                                            hello there\n",
       "213       8 Free Data Science Courses & Tutorials [2020]\n",
       "222            What are Set Off and Carry Forward Losses\n",
       "235    Advantages of Online Shopping Over Offline Sho...\n",
       "248                          IMPORTANCE OF MENTAL HEALTH\n",
       "250       HOW TO PREPARE YOURSELF FOR A BETTER TOMORROW?\n",
       "316                                Not too much to lose?\n",
       "395                                       Gangster Style\n",
       "470       AWS services and how to launch OS on AWS Cloud\n",
       "486                                          Learning...\n",
       "Name: title, dtype: object"
      ]
     },
     "execution_count": 151,
     "metadata": {},
     "output_type": "execute_result"
    }
   ],
   "source": [
    "userID = '5df49b32cc709107827fb3c7'\n",
    "itemID = '5ec821ddec493f4a2655889e'\n",
    "\n",
    "get_rating(algo, userID,ratings['post_id'], 10)"
   ]
  },
  {
   "cell_type": "code",
   "execution_count": null,
   "metadata": {},
   "outputs": [],
   "source": []
  }
 ],
 "metadata": {
  "kernelspec": {
   "display_name": "Python [conda env:torch] *",
   "language": "python",
   "name": "conda-env-torch-py"
  },
  "language_info": {
   "codemirror_mode": {
    "name": "ipython",
    "version": 3
   },
   "file_extension": ".py",
   "mimetype": "text/x-python",
   "name": "python",
   "nbconvert_exporter": "python",
   "pygments_lexer": "ipython3",
   "version": "3.7.7"
  }
 },
 "nbformat": 4,
 "nbformat_minor": 4
}
